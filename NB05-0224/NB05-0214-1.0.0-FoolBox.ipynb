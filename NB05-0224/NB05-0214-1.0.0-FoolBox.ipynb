{
 "cells": [
  {
   "cell_type": "markdown",
   "id": "fbb4237a-7a52-4e81-989a-2599e188b1b4",
   "metadata": {},
   "source": [
    "## Foolbox Example Implementation W/Tensorflow"
   ]
  },
  {
   "cell_type": "code",
   "execution_count": 1,
   "id": "030321c4-4f25-43f5-a79e-aa77c5b50ba1",
   "metadata": {},
   "outputs": [],
   "source": [
    "# Tensorflow logging: OFF\n",
    "import os\n",
    "os.environ['TF_CPP_MIN_LOG_LEVEL'] = '3'"
   ]
  },
  {
   "cell_type": "code",
   "execution_count": 2,
   "id": "a7500267-a917-4199-b212-b9c51383993c",
   "metadata": {},
   "outputs": [
    {
     "name": "stdout",
     "output_type": "stream",
     "text": [
      "Tensorflow Version: 2.15.0\n"
     ]
    }
   ],
   "source": [
    "# Imports\n",
    "import tensorflow as tf\n",
    "import eagerpy as ep\n",
    "from foolbox import TensorFlowModel, accuracy, samples, Model\n",
    "from foolbox.attacks import LinfPGD\n",
    "\n",
    "print(f'Tensorflow Version: {tf.__version__}')"
   ]
  },
  {
   "cell_type": "code",
   "execution_count": 3,
   "id": "ab96ab08-1456-4331-976c-09515ee3a03a",
   "metadata": {},
   "outputs": [
    {
     "name": "stdout",
     "output_type": "stream",
     "text": [
      "GPU Availability: 1 Physical GPUs & 1 Logical GPUs\n"
     ]
    }
   ],
   "source": [
    "# Check GPU availability and use it... if you have one\n",
    "gpus = tf.config.list_physical_devices('GPU')\n",
    "if gpus:\n",
    "    try:\n",
    "        for gpu in gpus:\n",
    "            tf.config.experimental.set_memory_growth(gpu, True)\n",
    "        logical_gpus = tf.config.experimental.list_logical_devices('GPU')\n",
    "        print(\"GPU Availability:\", len(gpus), \"Physical GPUs &\", len(logical_gpus), \"Logical GPUs\")\n",
    "    except RuntimeError as e:\n",
    "        print(e)\n",
    "else:\n",
    "    print(\"No GPUs detected.\")"
   ]
  },
  {
   "cell_type": "markdown",
   "id": "cd13bf79-dd7f-4526-82ff-c5e252b769b3",
   "metadata": {},
   "source": [
    "---"
   ]
  },
  {
   "cell_type": "code",
   "execution_count": 4,
   "id": "e0b43133-621f-40fd-8a3b-48c25d668eba",
   "metadata": {},
   "outputs": [],
   "source": [
    "model = tf.keras.applications.ResNet50(weights=\"imagenet\")"
   ]
  },
  {
   "cell_type": "code",
   "execution_count": 5,
   "id": "9b3bfa4d-c09f-41b0-8c57-bbee097749af",
   "metadata": {},
   "outputs": [],
   "source": [
    "pre = dict(flip_axis=-1, mean=[104.0, 116.0, 123.0])"
   ]
  },
  {
   "cell_type": "code",
   "execution_count": 6,
   "id": "c849604a-4d0c-448b-97af-afb6869a47df",
   "metadata": {},
   "outputs": [
    {
     "name": "stdout",
     "output_type": "stream",
     "text": [
      "WARNING:tensorflow:From /home/joseareia/miniconda3/lib/python3.11/site-packages/foolbox/models/tensorflow.py:13: is_gpu_available (from tensorflow.python.framework.test_util) is deprecated and will be removed in a future version.\n",
      "Instructions for updating:\n",
      "Use `tf.config.list_physical_devices('GPU')` instead.\n"
     ]
    }
   ],
   "source": [
    "fmodel: Model = TensorFlowModel(model, bounds=(0, 255), preprocessing=pre)"
   ]
  },
  {
   "cell_type": "code",
   "execution_count": 7,
   "id": "58529468-150c-4e59-bafa-9d3e577ed533",
   "metadata": {},
   "outputs": [],
   "source": [
    "fmodel = fmodel.transform_bounds((0,1))"
   ]
  },
  {
   "cell_type": "code",
   "execution_count": 8,
   "id": "6340b058-8927-4adf-918f-7c3704bff485",
   "metadata": {},
   "outputs": [],
   "source": [
    "images, labels = ep.astensors(*samples(fmodel, dataset=\"imagenet\", batchsize=1))"
   ]
  },
  {
   "cell_type": "code",
   "execution_count": 9,
   "id": "88580847-c0de-46ec-b1d2-aa3e93055472",
   "metadata": {},
   "outputs": [],
   "source": [
    "clean_acc = accuracy(fmodel, images, labels)"
   ]
  },
  {
   "cell_type": "code",
   "execution_count": 10,
   "id": "1cf5d7c9-a9f2-4892-a226-4990cf51f9ce",
   "metadata": {},
   "outputs": [
    {
     "name": "stdout",
     "output_type": "stream",
     "text": [
      "clean accuracy:  100.0 %\n"
     ]
    }
   ],
   "source": [
    "print(f\"clean accuracy:  {clean_acc * 100:.1f} %\")"
   ]
  },
  {
   "cell_type": "code",
   "execution_count": 11,
   "id": "90005038-7cd5-4c56-a26e-69e87f21485b",
   "metadata": {},
   "outputs": [],
   "source": [
    "attack = LinfPGD()"
   ]
  },
  {
   "cell_type": "code",
   "execution_count": 12,
   "id": "cd3eeb0a-1fec-405f-92b8-2168cad26f6b",
   "metadata": {},
   "outputs": [],
   "source": [
    "epsilons = [\n",
    "    0.0,\n",
    "    0.0002,\n",
    "    0.0005,\n",
    "    0.0008,\n",
    "    0.001,\n",
    "    0.0015,\n",
    "    0.002,\n",
    "    0.003,\n",
    "    0.01,\n",
    "    0.1,\n",
    "    0.3,\n",
    "    0.5,\n",
    "    1.0,\n",
    "]\n",
    "raw_advs, clipped_advs, success = attack(fmodel, images, labels, epsilons=epsilons)"
   ]
  },
  {
   "cell_type": "code",
   "execution_count": 13,
   "id": "cbf29a11-28a3-4846-a598-e717e2dcef79",
   "metadata": {},
   "outputs": [],
   "source": [
    "robust_accuracy = 1 - success.float32().mean(axis=-1)"
   ]
  },
  {
   "cell_type": "code",
   "execution_count": 15,
   "id": "e6b0f8e9-7988-4bff-890e-3e9f297290d8",
   "metadata": {},
   "outputs": [
    {
     "name": "stdout",
     "output_type": "stream",
     "text": [
      "robust accuracy for perturbations with\n",
      "Linf norm ≤ 0.0   : 100.0 %\n",
      "Linf norm ≤ 0.0002: 100.0 %\n",
      "Linf norm ≤ 0.0005: 100.0 %\n",
      "Linf norm ≤ 0.0008: 100.0 %\n",
      "Linf norm ≤ 0.001 : 100.0 %\n",
      "Linf norm ≤ 0.0015:  0.0 %\n",
      "Linf norm ≤ 0.002 :  0.0 %\n",
      "Linf norm ≤ 0.003 :  0.0 %\n",
      "Linf norm ≤ 0.01  :  0.0 %\n",
      "Linf norm ≤ 0.1   :  0.0 %\n",
      "Linf norm ≤ 0.3   :  0.0 %\n",
      "Linf norm ≤ 0.5   :  0.0 %\n",
      "Linf norm ≤ 1.0   :  0.0 %\n"
     ]
    }
   ],
   "source": [
    "print(\"robust accuracy for perturbations with\")\n",
    "for eps, acc in zip(epsilons, robust_accuracy):\n",
    "    print(f\"Linf norm ≤ {eps:<6}: {acc.item() * 100:4.1f} %\")"
   ]
  },
  {
   "cell_type": "code",
   "execution_count": 16,
   "id": "d67b92a5-616a-4d5e-a7f2-59c3f515ee9e",
   "metadata": {},
   "outputs": [
    {
     "name": "stdout",
     "output_type": "stream",
     "text": [
      "robust accuracy for perturbations with\n",
      "  Linf norm ≤ 0.0   : 100.0 %\n",
      "    perturbation sizes:\n",
      "     [0.]\n",
      "  Linf norm ≤ 0.0002: 100.0 %\n",
      "    perturbation sizes:\n",
      "     [0.0002]\n",
      "  Linf norm ≤ 0.0005: 100.0 %\n",
      "    perturbation sizes:\n",
      "     [0.00050002]\n",
      "  Linf norm ≤ 0.0008: 100.0 %\n",
      "    perturbation sizes:\n",
      "     [0.00080001]\n",
      "  Linf norm ≤ 0.001 : 100.0 %\n",
      "    perturbation sizes:\n",
      "     [0.001]\n",
      "  Linf norm ≤ 0.0015:  0.0 %\n",
      "    perturbation sizes:\n",
      "     [0.00150001]\n"
     ]
    }
   ],
   "source": [
    "print(\"robust accuracy for perturbations with\")\n",
    "for eps, advs_ in zip(epsilons, clipped_advs):\n",
    "    acc2 = accuracy(fmodel, advs_, labels)\n",
    "    print(f\"  Linf norm ≤ {eps:<6}: {acc2 * 100:4.1f} %\")\n",
    "    print(\"    perturbation sizes:\")\n",
    "    perturbation_sizes = (advs_ - images).norms.linf(axis=(1, 2, 3)).numpy()\n",
    "    print(\"    \", str(perturbation_sizes).replace(\"\\n\", \"\\n\" + \"    \"))\n",
    "    if acc2 == 0:\n",
    "        break"
   ]
  }
 ],
 "metadata": {
  "kernelspec": {
   "display_name": "Python 3 (ipykernel)",
   "language": "python",
   "name": "python3"
  },
  "language_info": {
   "codemirror_mode": {
    "name": "ipython",
    "version": 3
   },
   "file_extension": ".py",
   "mimetype": "text/x-python",
   "name": "python",
   "nbconvert_exporter": "python",
   "pygments_lexer": "ipython3",
   "version": "3.11.5"
  }
 },
 "nbformat": 4,
 "nbformat_minor": 5
}
