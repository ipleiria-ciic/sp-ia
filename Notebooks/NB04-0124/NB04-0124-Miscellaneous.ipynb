{
 "cells": [
  {
   "cell_type": "markdown",
   "id": "86e1386b-081c-4228-9f0c-81d647339055",
   "metadata": {},
   "source": [
    "# Miscellaneous of code"
   ]
  },
  {
   "cell_type": "markdown",
   "id": "f601cc76-35c8-4571-bb1e-d73cca3e2e46",
   "metadata": {},
   "source": [
    "### Preprocessing data"
   ]
  },
  {
   "cell_type": "code",
   "execution_count": null,
   "id": "8e168049-4544-45b8-be60-60f07555c4b2",
   "metadata": {},
   "outputs": [],
   "source": [
    "# Define the input shape of the images\n",
    "img_rows, img_cols = 28, 28"
   ]
  },
  {
   "cell_type": "code",
   "execution_count": null,
   "id": "920139a8-a18b-4e66-995c-892bbca5268d",
   "metadata": {},
   "outputs": [],
   "source": [
    "# Reshape the images to add the mono channel dimension (1)\n",
    "train_images = train_images.reshape(train_images.shape[0], img_rows, img_cols, 1)\n",
    "test_images = test_images.reshape(test_images.shape[0], img_rows, img_cols, 1)"
   ]
  },
  {
   "cell_type": "code",
   "execution_count": null,
   "id": "96825688-d894-4165-ad1e-e8a7475efa3e",
   "metadata": {},
   "outputs": [],
   "source": [
    "# Convert class vectors to binary class matrices\n",
    "train_labels = tf.keras.utils.to_categorical(train_labels, num_classes)\n",
    "test_labels = tf.keras.utils.to_categorical(test_labels, num_classes)"
   ]
  },
  {
   "cell_type": "code",
   "execution_count": null,
   "id": "5a99424c-af70-48d5-a873-23a00d2f55f5",
   "metadata": {},
   "outputs": [],
   "source": [
    "# Save the train and test labels in an argmax variable\n",
    "train_labels_argmax = np.argmax(train_labels, axis=1, out=None)\n",
    "test_labels_argmax = np.argmax(test_labels, axis=1, out=None)"
   ]
  },
  {
   "cell_type": "markdown",
   "id": "018780c0-4c4c-4908-9ef7-0dff58263b4b",
   "metadata": {},
   "source": [
    "### Models"
   ]
  },
  {
   "cell_type": "code",
   "execution_count": null,
   "id": "3763689c-e1e4-4692-9d48-489e6e557afa",
   "metadata": {},
   "outputs": [],
   "source": [
    "def create_cnn_model(input_shape, num_classes):\n",
    "    # Input layer\n",
    "    inputs = Input(shape=input_shape)\n",
    "    # Convolutional layers\n",
    "    x = Conv2D(16, kernel_size=(3, 3), activation=LeakyReLU(0.1))(inputs)\n",
    "    x = BatchNormalization()(x)\n",
    "    x = MaxPooling2D(pool_size=(2, 2))(x)\n",
    "    x = Conv2D(32, (3, 3), activation=LeakyReLU(0.1))(x)\n",
    "    x = BatchNormalization()(x)\n",
    "    x = MaxPooling2D(pool_size=(2, 2))(x)\n",
    "    # Dropout layer\n",
    "    x = Dropout(0.25)(x)\n",
    "    # Flatten layer\n",
    "    x = Flatten()(x)\n",
    "    # Dense layers\n",
    "    x = Dense(64, activation=LeakyReLU(0.1))(x)\n",
    "    x = BatchNormalization()(x)\n",
    "    x = Dropout(0.4)(x)\n",
    "    # Output layer\n",
    "    outputs = Dense(num_classes, activation='softmax')(x)\n",
    "    # Create the model\n",
    "    model = tf.keras.Model(inputs=inputs, outputs=outputs)\n",
    "    return model\n",
    "    \n",
    "model = create_cnn_model((img_rows, img_cols, 1), num_classes)"
   ]
  },
  {
   "cell_type": "code",
   "execution_count": null,
   "id": "db698cc0-ff2b-4f6c-be7c-4f7e19166efb",
   "metadata": {},
   "outputs": [],
   "source": [
    "# Define the CNN model\n",
    "model = models.Sequential()\n",
    "\n",
    "# Convolutional and pooling layers\n",
    "model.add(layers.Conv2D(32, (3, 3), activation='relu', input_shape=(28, 28, 1)))\n",
    "model.add(layers.MaxPooling2D((2, 2)))\n",
    "model.add(layers.Conv2D(64, (3, 3), activation='relu'))\n",
    "model.add(layers.MaxPooling2D((2, 2)))\n",
    "\n",
    "# Flatten layer to transition from convolutional to dense layers\n",
    "model.add(layers.Flatten())\n",
    "\n",
    "# Dense layers\n",
    "model.add(layers.Dense(128, activation='relu'))\n",
    "model.add(layers.Dense(10, activation='softmax'))  # 10 output classes for Fashion MNIST"
   ]
  },
  {
   "cell_type": "code",
   "execution_count": null,
   "id": "8ec00259-43f4-4291-9fc2-5af9ef3a7f37",
   "metadata": {},
   "outputs": [],
   "source": [
    "initial_learning_rate = 0.001\n",
    "lr_schedule = tf.keras.optimizers.schedules.ExponentialDecay(\n",
    "    initial_learning_rate, decay_steps=10000, decay_rate=0.9, staircase=True\n",
    ")\n",
    "\n",
    "optimizer = tf.keras.optimizers.Adam(learning_rate=lr_schedule)\n",
    "\n",
    "model.compile(\n",
    "    loss='sparse_categorical_crossentropy',\n",
    "    optimizer=optimizer,\n",
    "    metrics=['accuracy']\n",
    ")"
   ]
  },
  {
   "cell_type": "markdown",
   "id": "2706a051-ea8e-41de-8876-034dc1ff07a2",
   "metadata": {},
   "source": [
    "### Adversarial pattern creation"
   ]
  },
  {
   "cell_type": "code",
   "execution_count": null,
   "id": "acaf23f5-47e7-4d9b-8a07-5f7ea5b88b49",
   "metadata": {},
   "outputs": [],
   "source": [
    "# Choose image and label with the model prediction\n",
    "image_index = 1\n",
    "image = (np.expand_dims(test_images[image_index], 0))\n",
    "image = tf.convert_to_tensor(image, dtype=tf.float32)\n",
    "image_probs = probability_model.predict(image)\n",
    "print(f\"Predicted Class: {np.argmax(image_probs)}\")\n",
    "\n",
    "label = train_labels[image_index]\n",
    "label = tf.one_hot(image_index, image_probs.shape[-1])\n",
    "label = tf.reshape(label, (1, image_probs.shape[-1]))\n",
    "\n",
    "# Create the perturbation pattern\n",
    "perturbations = create_adversarial_pattern(image, label)\n",
    "mpl.imshow(perturbations[0] * 0.5 + 0.5)  # To change [-1, 1] to [0,1]"
   ]
  }
 ],
 "metadata": {
  "kernelspec": {
   "display_name": "Python 3 (ipykernel)",
   "language": "python",
   "name": "python3"
  },
  "language_info": {
   "codemirror_mode": {
    "name": "ipython",
    "version": 3
   },
   "file_extension": ".py",
   "mimetype": "text/x-python",
   "name": "python",
   "nbconvert_exporter": "python",
   "pygments_lexer": "ipython3",
   "version": "3.11.5"
  }
 },
 "nbformat": 4,
 "nbformat_minor": 5
}
