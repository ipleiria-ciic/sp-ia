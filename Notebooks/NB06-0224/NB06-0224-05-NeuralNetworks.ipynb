{
 "cells": [
  {
   "cell_type": "markdown",
   "id": "436a8134-0821-4926-919f-2e8544e551a1",
   "metadata": {},
   "source": [
    "## PyTorch: Build the Neural Network"
   ]
  },
  {
   "cell_type": "markdown",
   "id": "d7f5539f-5dff-4061-b8af-f51c38e07a24",
   "metadata": {},
   "source": [
    "Neural networks comprise of layers/modules that perform operations on data. The `torch.nn` namespace provides all the building blocks you need to build your own neural network. Every module in PyTorch subclasses the `nn.Module`. A neural network is a module itself that consists of other modules (layers). This nested structure allows for building and managing complex architectures easily."
   ]
  },
  {
   "cell_type": "code",
   "execution_count": 1,
   "id": "9d6e5408-ce1a-4008-b76b-59eb1097f961",
   "metadata": {},
   "outputs": [],
   "source": [
    "import os\n",
    "import torch\n",
    "from torch import nn\n",
    "from torch.utils.data import DataLoader\n",
    "from torchvision import datasets, transforms"
   ]
  },
  {
   "cell_type": "markdown",
   "id": "6c9ef5bc-99bd-4780-8205-df4a8641b629",
   "metadata": {},
   "source": [
    "### Get Device for Training"
   ]
  },
  {
   "cell_type": "code",
   "execution_count": 2,
   "id": "986cb115-5ba9-44ea-a3e5-86d271aca486",
   "metadata": {},
   "outputs": [
    {
     "name": "stdout",
     "output_type": "stream",
     "text": [
      "Using cuda device\n"
     ]
    }
   ],
   "source": [
    "device = (\n",
    "    \"cuda\"\n",
    "    if torch.cuda.is_available()\n",
    "    else \"mps\"\n",
    "    if torch.backends.mps.is_available()\n",
    "    else \"cpu\"\n",
    ")\n",
    "print(f\"Using {device} device\")"
   ]
  },
  {
   "cell_type": "markdown",
   "id": "53529b65-6bc0-4004-8046-cc28b7ac4b88",
   "metadata": {},
   "source": [
    "### Define the Class"
   ]
  },
  {
   "cell_type": "code",
   "execution_count": 3,
   "id": "09ea7d37-af4e-4323-8d92-3d569d9cfe6b",
   "metadata": {},
   "outputs": [],
   "source": [
    "class NeuralNetwork(nn.Module):\n",
    "    def __init__(self):\n",
    "        super().__init__()\n",
    "        self.flatten = nn.Flatten()\n",
    "        self.linear_relu_stack = nn.Sequential(\n",
    "            nn.Linear(28*28, 512),\n",
    "            nn.ReLU(),\n",
    "            nn.Linear(512, 512),\n",
    "            nn.ReLU(),\n",
    "            nn.Linear(512, 10),\n",
    "        )\n",
    "\n",
    "    def forward(self, x):\n",
    "        x = self.flatten(x)\n",
    "        logits = self.linear_relu_stack(x)\n",
    "        return logits"
   ]
  },
  {
   "cell_type": "code",
   "execution_count": 4,
   "id": "3c9088ea-e170-4d35-8bbb-24c2f85de817",
   "metadata": {},
   "outputs": [
    {
     "name": "stdout",
     "output_type": "stream",
     "text": [
      "NeuralNetwork(\n",
      "  (flatten): Flatten(start_dim=1, end_dim=-1)\n",
      "  (linear_relu_stack): Sequential(\n",
      "    (0): Linear(in_features=784, out_features=512, bias=True)\n",
      "    (1): ReLU()\n",
      "    (2): Linear(in_features=512, out_features=512, bias=True)\n",
      "    (3): ReLU()\n",
      "    (4): Linear(in_features=512, out_features=10, bias=True)\n",
      "  )\n",
      ")\n"
     ]
    }
   ],
   "source": [
    "model = NeuralNetwork().to(device)\n",
    "print(model)"
   ]
  },
  {
   "cell_type": "code",
   "execution_count": 5,
   "id": "4ca12ad4-f653-4d73-8f2a-48264a228a69",
   "metadata": {},
   "outputs": [
    {
     "name": "stdout",
     "output_type": "stream",
     "text": [
      "Predicted class: tensor([1], device='cuda:0')\n"
     ]
    }
   ],
   "source": [
    "X = torch.rand(1, 28, 28, device=device)\n",
    "logits = model(X)\n",
    "pred_probab = nn.Softmax(dim=1)(logits)\n",
    "y_pred = pred_probab.argmax(1)\n",
    "print(f\"Predicted class: {y_pred}\")"
   ]
  },
  {
   "cell_type": "markdown",
   "id": "3c7d88e0-21cf-4176-a7d7-ca4b60691efc",
   "metadata": {},
   "source": [
    "### Model Layers"
   ]
  },
  {
   "cell_type": "code",
   "execution_count": 6,
   "id": "22981828-b6c9-4a03-bf45-6d7ed8f4b5b2",
   "metadata": {},
   "outputs": [
    {
     "name": "stdout",
     "output_type": "stream",
     "text": [
      "torch.Size([3, 28, 28])\n"
     ]
    }
   ],
   "source": [
    "input_image = torch.rand(3,28,28)\n",
    "print(input_image.size())"
   ]
  },
  {
   "cell_type": "markdown",
   "id": "10ba0074-1b6b-4a17-ac21-ffcfa576284e",
   "metadata": {},
   "source": [
    "#### nn.Flatten"
   ]
  },
  {
   "cell_type": "markdown",
   "id": "5d7695ba-54c1-42f5-9d58-415be84c0489",
   "metadata": {},
   "source": [
    "We initialize the `nn.Flatten` layer to convert each 2D 28x28 image into a contiguous array of 784 pixel values."
   ]
  },
  {
   "cell_type": "code",
   "execution_count": 7,
   "id": "047ea640-fd4d-44fd-a8d1-37d06ecfef55",
   "metadata": {},
   "outputs": [
    {
     "name": "stdout",
     "output_type": "stream",
     "text": [
      "torch.Size([3, 784])\n"
     ]
    }
   ],
   "source": [
    "flatten = nn.Flatten()\n",
    "flat_image = flatten(input_image)\n",
    "print(flat_image.size())"
   ]
  },
  {
   "cell_type": "markdown",
   "id": "3975234d-fb3d-48db-b0df-23d3c3bc90f6",
   "metadata": {},
   "source": [
    "#### nn.Linear"
   ]
  },
  {
   "cell_type": "markdown",
   "id": "d35beb06-b7a5-45bf-9ba6-52cdbd4e1124",
   "metadata": {},
   "source": [
    "The linear layer is a module that applies a linear transformation on the input using its stored weights and biases."
   ]
  },
  {
   "cell_type": "code",
   "execution_count": 8,
   "id": "77ed511d-c473-4fd5-9ca3-a58270b49eac",
   "metadata": {},
   "outputs": [
    {
     "name": "stdout",
     "output_type": "stream",
     "text": [
      "torch.Size([3, 20])\n"
     ]
    }
   ],
   "source": [
    "layer1 = nn.Linear(in_features=28*28, out_features=20)\n",
    "hidden1 = layer1(flat_image)\n",
    "print(hidden1.size())"
   ]
  },
  {
   "cell_type": "markdown",
   "id": "2b126299-7fa0-4f3a-a855-6c0f0c18ccd9",
   "metadata": {},
   "source": [
    "#### nn.ReLU"
   ]
  },
  {
   "cell_type": "markdown",
   "id": "e6d6b547-5f72-4443-9f95-d79d94542ce4",
   "metadata": {},
   "source": [
    "Non-linear activations are what create the complex mappings between the model’s inputs and outputs. They are applied after linear transformations to introduce nonlinearity, helping neural networks learn a wide variety of phenomena."
   ]
  },
  {
   "cell_type": "code",
   "execution_count": 9,
   "id": "ca351b14-1a8d-4a9f-9ad0-d450d332e1f8",
   "metadata": {},
   "outputs": [
    {
     "name": "stdout",
     "output_type": "stream",
     "text": [
      "Before ReLU: tensor([[ 0.1235, -0.4075, -0.2992, -0.3205, -0.1125,  0.2649, -0.0254,  0.1307,\n",
      "         -0.5632, -0.2066,  0.2270, -0.0180, -0.2758,  0.2925,  0.0966, -0.2031,\n",
      "         -0.0227,  0.0885, -0.2271,  0.3615],\n",
      "        [-0.1416, -0.0019, -0.2330, -0.1696,  0.1922,  0.2747,  0.0801, -0.1570,\n",
      "         -0.6779, -0.0769,  0.0825, -0.0583,  0.0466,  0.2624,  0.2885, -0.0853,\n",
      "         -0.0027,  0.0191,  0.2147,  0.0885],\n",
      "        [-0.2195,  0.0013, -0.2892, -0.1594,  0.2091,  0.4276,  0.2346, -0.0056,\n",
      "         -0.3832,  0.0882,  0.0585, -0.3290,  0.2230, -0.0856,  0.4707, -0.4539,\n",
      "          0.0615, -0.0339,  0.0203, -0.1455]], grad_fn=<AddmmBackward0>)\n",
      "\n",
      "\n",
      "After ReLU: tensor([[0.1235, 0.0000, 0.0000, 0.0000, 0.0000, 0.2649, 0.0000, 0.1307, 0.0000,\n",
      "         0.0000, 0.2270, 0.0000, 0.0000, 0.2925, 0.0966, 0.0000, 0.0000, 0.0885,\n",
      "         0.0000, 0.3615],\n",
      "        [0.0000, 0.0000, 0.0000, 0.0000, 0.1922, 0.2747, 0.0801, 0.0000, 0.0000,\n",
      "         0.0000, 0.0825, 0.0000, 0.0466, 0.2624, 0.2885, 0.0000, 0.0000, 0.0191,\n",
      "         0.2147, 0.0885],\n",
      "        [0.0000, 0.0013, 0.0000, 0.0000, 0.2091, 0.4276, 0.2346, 0.0000, 0.0000,\n",
      "         0.0882, 0.0585, 0.0000, 0.2230, 0.0000, 0.4707, 0.0000, 0.0615, 0.0000,\n",
      "         0.0203, 0.0000]], grad_fn=<ReluBackward0>)\n"
     ]
    }
   ],
   "source": [
    "print(f\"Before ReLU: {hidden1}\\n\\n\")\n",
    "hidden1 = nn.ReLU()(hidden1)\n",
    "print(f\"After ReLU: {hidden1}\")"
   ]
  },
  {
   "cell_type": "markdown",
   "id": "15067da2-3ac0-4736-b443-df759ee70556",
   "metadata": {},
   "source": [
    "#### nn.Sequential"
   ]
  },
  {
   "cell_type": "markdown",
   "id": "4408cf3a-b2f5-4acf-8325-f11a8d899b2a",
   "metadata": {},
   "source": [
    "`nn.Sequential` is an ordered container of modules. The data is passed through all the modules in the same order as defined. You can use sequential containers to put together a quick network like `seq_modules`."
   ]
  },
  {
   "cell_type": "code",
   "execution_count": 10,
   "id": "3c73b9ca-c83e-4d07-afaf-65cb319eb311",
   "metadata": {},
   "outputs": [],
   "source": [
    "seq_modules = nn.Sequential(\n",
    "    flatten,\n",
    "    layer1,\n",
    "    nn.ReLU(),\n",
    "    nn.Linear(20, 10)\n",
    ")\n",
    "input_image = torch.rand(3,28,28)\n",
    "logits = seq_modules(input_image)"
   ]
  },
  {
   "cell_type": "markdown",
   "id": "ece2eec4-3d49-4037-a3ab-2dc63df05bb0",
   "metadata": {},
   "source": [
    "#### nn.Softmax"
   ]
  },
  {
   "cell_type": "markdown",
   "id": "3c093b37-c7fa-4acf-8a3c-14bfa1b27144",
   "metadata": {},
   "source": [
    "The last linear layer of the neural network returns logits - raw values in [-infty, infty] - which are passed to the `nn.Softmax` module. The logits are scaled to values [0, 1] representing the model’s predicted probabilities for each class. `dim` parameter indicates the dimension along which the values must sum to 1."
   ]
  },
  {
   "cell_type": "code",
   "execution_count": 11,
   "id": "b770543f-62e9-454d-a407-6dfe2890619f",
   "metadata": {},
   "outputs": [],
   "source": [
    "softmax = nn.Softmax(dim=1)\n",
    "pred_probab = softmax(logits)"
   ]
  },
  {
   "cell_type": "markdown",
   "id": "c27d5b93-9489-4954-bef9-3f61c23b16ed",
   "metadata": {},
   "source": [
    "### Model Parameters"
   ]
  },
  {
   "cell_type": "code",
   "execution_count": 12,
   "id": "71e1ddfd-48b9-4a94-a50d-65b638cba842",
   "metadata": {},
   "outputs": [
    {
     "name": "stdout",
     "output_type": "stream",
     "text": [
      "Model structure: NeuralNetwork(\n",
      "  (flatten): Flatten(start_dim=1, end_dim=-1)\n",
      "  (linear_relu_stack): Sequential(\n",
      "    (0): Linear(in_features=784, out_features=512, bias=True)\n",
      "    (1): ReLU()\n",
      "    (2): Linear(in_features=512, out_features=512, bias=True)\n",
      "    (3): ReLU()\n",
      "    (4): Linear(in_features=512, out_features=10, bias=True)\n",
      "  )\n",
      ")\n",
      "\n",
      "\n",
      "Layer: linear_relu_stack.0.weight | Size: torch.Size([512, 784]) | Values : tensor([[ 0.0012,  0.0293, -0.0159,  ..., -0.0081, -0.0104, -0.0174],\n",
      "        [ 0.0311,  0.0215,  0.0033,  ..., -0.0076, -0.0136,  0.0024]],\n",
      "       device='cuda:0', grad_fn=<SliceBackward0>) \n",
      "\n",
      "Layer: linear_relu_stack.0.bias | Size: torch.Size([512]) | Values : tensor([-0.0208,  0.0274], device='cuda:0', grad_fn=<SliceBackward0>) \n",
      "\n",
      "Layer: linear_relu_stack.2.weight | Size: torch.Size([512, 512]) | Values : tensor([[-0.0383,  0.0240,  0.0124,  ...,  0.0254,  0.0329, -0.0389],\n",
      "        [-0.0045,  0.0081, -0.0055,  ..., -0.0393,  0.0035, -0.0102]],\n",
      "       device='cuda:0', grad_fn=<SliceBackward0>) \n",
      "\n",
      "Layer: linear_relu_stack.2.bias | Size: torch.Size([512]) | Values : tensor([-0.0173, -0.0028], device='cuda:0', grad_fn=<SliceBackward0>) \n",
      "\n",
      "Layer: linear_relu_stack.4.weight | Size: torch.Size([10, 512]) | Values : tensor([[ 0.0251,  0.0293,  0.0110,  ..., -0.0265, -0.0104,  0.0264],\n",
      "        [ 0.0098,  0.0033,  0.0139,  ..., -0.0064,  0.0194, -0.0046]],\n",
      "       device='cuda:0', grad_fn=<SliceBackward0>) \n",
      "\n",
      "Layer: linear_relu_stack.4.bias | Size: torch.Size([10]) | Values : tensor([0.0220, 0.0441], device='cuda:0', grad_fn=<SliceBackward0>) \n",
      "\n"
     ]
    }
   ],
   "source": [
    "print(f\"Model structure: {model}\\n\\n\")\n",
    "\n",
    "for name, param in model.named_parameters():\n",
    "    print(f\"Layer: {name} | Size: {param.size()} | Values : {param[:2]} \\n\")"
   ]
  }
 ],
 "metadata": {
  "kernelspec": {
   "display_name": "Python 3 (ipykernel)",
   "language": "python",
   "name": "python3"
  },
  "language_info": {
   "codemirror_mode": {
    "name": "ipython",
    "version": 3
   },
   "file_extension": ".py",
   "mimetype": "text/x-python",
   "name": "python",
   "nbconvert_exporter": "python",
   "pygments_lexer": "ipython3",
   "version": "3.11.5"
  }
 },
 "nbformat": 4,
 "nbformat_minor": 5
}
