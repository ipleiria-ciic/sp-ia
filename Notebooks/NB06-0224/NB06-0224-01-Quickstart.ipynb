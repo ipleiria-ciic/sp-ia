{
 "cells": [
  {
   "cell_type": "markdown",
   "id": "200ce108-e2d0-4801-b447-78f75789c1b2",
   "metadata": {},
   "source": [
    "## PyTorch: Quickstart! 💪"
   ]
  },
  {
   "cell_type": "code",
   "execution_count": 1,
   "id": "cb13f0a8-9c58-44c6-b494-24f15106bba1",
   "metadata": {},
   "outputs": [],
   "source": [
    "import torch\n",
    "from torch import nn\n",
    "from torch.utils.data import DataLoader\n",
    "from torchvision import datasets\n",
    "from torchvision.transforms import ToTensor"
   ]
  },
  {
   "cell_type": "markdown",
   "id": "2eae68a1-a5bc-4647-88bb-828b51551632",
   "metadata": {},
   "source": [
    "### Working with data"
   ]
  },
  {
   "cell_type": "code",
   "execution_count": 3,
   "id": "e8cb61cf-4016-4027-9889-c117ce239966",
   "metadata": {},
   "outputs": [
    {
     "name": "stdout",
     "output_type": "stream",
     "text": [
      "Downloading http://fashion-mnist.s3-website.eu-central-1.amazonaws.com/train-images-idx3-ubyte.gz\n",
      "Downloading http://fashion-mnist.s3-website.eu-central-1.amazonaws.com/train-images-idx3-ubyte.gz to data/FashionMNIST/raw/train-images-idx3-ubyte.gz\n"
     ]
    },
    {
     "name": "stderr",
     "output_type": "stream",
     "text": [
      "100%|██████████████████████████████████████████████████████████████████████████████████████████████| 26421880/26421880 [00:17<00:00, 1553974.27it/s]\n"
     ]
    },
    {
     "name": "stdout",
     "output_type": "stream",
     "text": [
      "Extracting data/FashionMNIST/raw/train-images-idx3-ubyte.gz to data/FashionMNIST/raw\n",
      "\n",
      "Downloading http://fashion-mnist.s3-website.eu-central-1.amazonaws.com/train-labels-idx1-ubyte.gz\n",
      "Downloading http://fashion-mnist.s3-website.eu-central-1.amazonaws.com/train-labels-idx1-ubyte.gz to data/FashionMNIST/raw/train-labels-idx1-ubyte.gz\n"
     ]
    },
    {
     "name": "stderr",
     "output_type": "stream",
     "text": [
      "100%|█████████████████████████████████████████████████████████████████████████████████████████████████████| 29515/29515 [00:00<00:00, 238506.94it/s]\n"
     ]
    },
    {
     "name": "stdout",
     "output_type": "stream",
     "text": [
      "Extracting data/FashionMNIST/raw/train-labels-idx1-ubyte.gz to data/FashionMNIST/raw\n",
      "\n",
      "Downloading http://fashion-mnist.s3-website.eu-central-1.amazonaws.com/t10k-images-idx3-ubyte.gz\n",
      "Downloading http://fashion-mnist.s3-website.eu-central-1.amazonaws.com/t10k-images-idx3-ubyte.gz to data/FashionMNIST/raw/t10k-images-idx3-ubyte.gz\n"
     ]
    },
    {
     "name": "stderr",
     "output_type": "stream",
     "text": [
      "100%|████████████████████████████████████████████████████████████████████████████████████████████████| 4422102/4422102 [00:03<00:00, 1124632.00it/s]\n"
     ]
    },
    {
     "name": "stdout",
     "output_type": "stream",
     "text": [
      "Extracting data/FashionMNIST/raw/t10k-images-idx3-ubyte.gz to data/FashionMNIST/raw\n",
      "\n",
      "Downloading http://fashion-mnist.s3-website.eu-central-1.amazonaws.com/t10k-labels-idx1-ubyte.gz\n",
      "Downloading http://fashion-mnist.s3-website.eu-central-1.amazonaws.com/t10k-labels-idx1-ubyte.gz to data/FashionMNIST/raw/t10k-labels-idx1-ubyte.gz\n"
     ]
    },
    {
     "name": "stderr",
     "output_type": "stream",
     "text": [
      "100%|██████████████████████████████████████████████████████████████████████████████████████████████████████| 5148/5148 [00:00<00:00, 1139193.68it/s]"
     ]
    },
    {
     "name": "stdout",
     "output_type": "stream",
     "text": [
      "Extracting data/FashionMNIST/raw/t10k-labels-idx1-ubyte.gz to data/FashionMNIST/raw\n",
      "\n"
     ]
    },
    {
     "name": "stderr",
     "output_type": "stream",
     "text": [
      "\n"
     ]
    }
   ],
   "source": [
    "# Download training data from open datasets.\n",
    "training_data = datasets.FashionMNIST(\n",
    "    root=\"data\",\n",
    "    train=True,\n",
    "    download=True,\n",
    "    transform=ToTensor(),\n",
    ")\n",
    "\n",
    "# Download test data from open datasets.\n",
    "test_data = datasets.FashionMNIST(\n",
    "    root=\"data\",\n",
    "    train=False,\n",
    "    download=True,\n",
    "    transform=ToTensor(),\n",
    ")"
   ]
  },
  {
   "cell_type": "code",
   "execution_count": 4,
   "id": "19cc61ed-a5ab-487c-a630-5a97acb7e96a",
   "metadata": {},
   "outputs": [
    {
     "name": "stdout",
     "output_type": "stream",
     "text": [
      "Shape of X [N, C, H, W]: torch.Size([16, 1, 28, 28])\n",
      "Shape of y: torch.Size([16]) torch.int64\n"
     ]
    }
   ],
   "source": [
    "batch_size = 16\n",
    "\n",
    "# Create data loaders.\n",
    "train_dataloader = DataLoader(training_data, batch_size=batch_size)\n",
    "test_dataloader = DataLoader(test_data, batch_size=batch_size)\n",
    "\n",
    "for X, y in test_dataloader:\n",
    "    print(f\"Shape of X [N, C, H, W]: {X.shape}\")\n",
    "    print(f\"Shape of y: {y.shape} {y.dtype}\")\n",
    "    break"
   ]
  },
  {
   "cell_type": "markdown",
   "id": "f89c3ccd-d50a-4d6b-b8da-bb9cf16c9e35",
   "metadata": {},
   "source": [
    "### Creating models"
   ]
  },
  {
   "cell_type": "code",
   "execution_count": 5,
   "id": "2c0749f0-b4e0-4cbb-baee-129a1aa51dee",
   "metadata": {},
   "outputs": [
    {
     "name": "stdout",
     "output_type": "stream",
     "text": [
      "Using cuda device\n"
     ]
    }
   ],
   "source": [
    "# Get cpu, gpu or mps device for training.\n",
    "device = (\n",
    "    \"cuda\"\n",
    "    if torch.cuda.is_available()\n",
    "    else \"mps\"\n",
    "    if torch.backends.mps.is_available()\n",
    "    else \"cpu\"\n",
    ")\n",
    "print(f\"Using {device} device\")"
   ]
  },
  {
   "cell_type": "code",
   "execution_count": 6,
   "id": "82fbd0a2-991a-460c-ae9b-94a3f2e3f365",
   "metadata": {},
   "outputs": [
    {
     "name": "stdout",
     "output_type": "stream",
     "text": [
      "NeuralNetwork(\n",
      "  (flatten): Flatten(start_dim=1, end_dim=-1)\n",
      "  (linear_relu_stack): Sequential(\n",
      "    (0): Linear(in_features=784, out_features=512, bias=True)\n",
      "    (1): ReLU()\n",
      "    (2): Linear(in_features=512, out_features=512, bias=True)\n",
      "    (3): ReLU()\n",
      "    (4): Linear(in_features=512, out_features=10, bias=True)\n",
      "  )\n",
      ")\n"
     ]
    }
   ],
   "source": [
    "# Define model\n",
    "class NeuralNetwork(nn.Module):\n",
    "    def __init__(self):\n",
    "        super().__init__()\n",
    "        self.flatten = nn.Flatten()\n",
    "        self.linear_relu_stack = nn.Sequential(\n",
    "            nn.Linear(28*28, 512),\n",
    "            nn.ReLU(),\n",
    "            nn.Linear(512, 512),\n",
    "            nn.ReLU(),\n",
    "            nn.Linear(512, 10)\n",
    "        )\n",
    "\n",
    "    def forward(self, x):\n",
    "        x = self.flatten(x)\n",
    "        logits = self.linear_relu_stack(x)\n",
    "        return logits\n",
    "\n",
    "model = NeuralNetwork().to(device)\n",
    "print(model)"
   ]
  },
  {
   "cell_type": "markdown",
   "id": "7ca43e88-eba8-4cda-bbc9-509141322444",
   "metadata": {},
   "source": [
    "### Optimising the model parameters"
   ]
  },
  {
   "cell_type": "code",
   "execution_count": 7,
   "id": "a4155841-71cf-4130-a246-603a0732eb75",
   "metadata": {},
   "outputs": [],
   "source": [
    "loss_fn = nn.CrossEntropyLoss()\n",
    "optimizer = torch.optim.SGD(model.parameters(), lr=1e-3)"
   ]
  },
  {
   "cell_type": "code",
   "execution_count": 8,
   "id": "a670894e-003f-40ea-b730-3fdffe6fdef0",
   "metadata": {},
   "outputs": [],
   "source": [
    "def train(dataloader, model, loss_fn, optimizer):\n",
    "    size = len(dataloader.dataset)\n",
    "    model.train()\n",
    "    for batch, (X, y) in enumerate(dataloader):\n",
    "        X, y = X.to(device), y.to(device)\n",
    "\n",
    "        # Compute prediction error\n",
    "        pred = model(X)\n",
    "        loss = loss_fn(pred, y)\n",
    "\n",
    "        # Backpropagation\n",
    "        loss.backward()\n",
    "        optimizer.step()\n",
    "        optimizer.zero_grad()\n",
    "\n",
    "        if batch % 100 == 0:\n",
    "            loss, current = loss.item(), (batch + 1) * len(X)\n",
    "            print(f\"loss: {loss:>7f}  [{current:>5d}/{size:>5d}]\")"
   ]
  },
  {
   "cell_type": "code",
   "execution_count": 9,
   "id": "1b307818-8040-4af8-be98-1f175d89c65c",
   "metadata": {},
   "outputs": [],
   "source": [
    "def test(dataloader, model, loss_fn):\n",
    "    size = len(dataloader.dataset)\n",
    "    num_batches = len(dataloader)\n",
    "    model.eval()\n",
    "    test_loss, correct = 0, 0\n",
    "    with torch.no_grad():\n",
    "        for X, y in dataloader:\n",
    "            X, y = X.to(device), y.to(device)\n",
    "            pred = model(X)\n",
    "            test_loss += loss_fn(pred, y).item()\n",
    "            correct += (pred.argmax(1) == y).type(torch.float).sum().item()\n",
    "    test_loss /= num_batches\n",
    "    correct /= size\n",
    "    print(f\"Test Error: \\n Accuracy: {(100*correct):>0.1f}%, Avg loss: {test_loss:>8f} \\n\")"
   ]
  },
  {
   "cell_type": "code",
   "execution_count": 10,
   "id": "e16d6530-39af-42aa-8c3e-1c30cc3365dd",
   "metadata": {},
   "outputs": [
    {
     "name": "stdout",
     "output_type": "stream",
     "text": [
      "Epoch 1\n",
      "-------------------------------\n",
      "loss: 2.322677  [   16/60000]\n",
      "loss: 2.298257  [ 1616/60000]\n",
      "loss: 2.292852  [ 3216/60000]\n",
      "loss: 2.265193  [ 4816/60000]\n",
      "loss: 2.256685  [ 6416/60000]\n",
      "loss: 2.242558  [ 8016/60000]\n",
      "loss: 2.228478  [ 9616/60000]\n",
      "loss: 2.180291  [11216/60000]\n",
      "loss: 2.217207  [12816/60000]\n",
      "loss: 2.141996  [14416/60000]\n",
      "loss: 2.137915  [16016/60000]\n",
      "loss: 2.115977  [17616/60000]\n",
      "loss: 2.126259  [19216/60000]\n",
      "loss: 2.084308  [20816/60000]\n",
      "loss: 2.065975  [22416/60000]\n",
      "loss: 2.032122  [24016/60000]\n",
      "loss: 1.987403  [25616/60000]\n",
      "loss: 2.050560  [27216/60000]\n",
      "loss: 1.940070  [28816/60000]\n",
      "loss: 1.923776  [30416/60000]\n",
      "loss: 1.839818  [32016/60000]\n",
      "loss: 1.760383  [33616/60000]\n",
      "loss: 1.672602  [35216/60000]\n",
      "loss: 1.781998  [36816/60000]\n",
      "loss: 1.853174  [38416/60000]\n",
      "loss: 1.623925  [40016/60000]\n",
      "loss: 1.590072  [41616/60000]\n",
      "loss: 1.664899  [43216/60000]\n",
      "loss: 1.407295  [44816/60000]\n",
      "loss: 1.521414  [46416/60000]\n",
      "loss: 1.561041  [48016/60000]\n",
      "loss: 1.336888  [49616/60000]\n",
      "loss: 1.417007  [51216/60000]\n",
      "loss: 1.387351  [52816/60000]\n",
      "loss: 1.286544  [54416/60000]\n",
      "loss: 1.354044  [56016/60000]\n",
      "loss: 1.295399  [57616/60000]\n",
      "loss: 1.058508  [59216/60000]\n",
      "Test Error: \n",
      " Accuracy: 63.1%, Avg loss: 1.268102 \n",
      "\n",
      "Epoch 2\n",
      "-------------------------------\n",
      "loss: 1.295043  [   16/60000]\n",
      "loss: 1.145936  [ 1616/60000]\n",
      "loss: 1.198418  [ 3216/60000]\n",
      "loss: 1.262157  [ 4816/60000]\n",
      "loss: 1.119139  [ 6416/60000]\n",
      "loss: 1.273427  [ 8016/60000]\n",
      "loss: 1.205261  [ 9616/60000]\n",
      "loss: 1.045641  [11216/60000]\n",
      "loss: 1.113018  [12816/60000]\n",
      "loss: 1.097489  [14416/60000]\n",
      "loss: 1.157950  [16016/60000]\n",
      "loss: 1.005531  [17616/60000]\n",
      "loss: 0.904286  [19216/60000]\n",
      "loss: 1.437628  [20816/60000]\n",
      "loss: 1.095999  [22416/60000]\n",
      "loss: 1.080297  [24016/60000]\n",
      "loss: 0.856018  [25616/60000]\n",
      "loss: 1.172063  [27216/60000]\n",
      "loss: 1.127082  [28816/60000]\n",
      "loss: 1.031093  [30416/60000]\n",
      "loss: 0.944795  [32016/60000]\n",
      "loss: 0.644605  [33616/60000]\n",
      "loss: 0.753543  [35216/60000]\n",
      "loss: 0.987982  [36816/60000]\n",
      "loss: 1.263832  [38416/60000]\n",
      "loss: 0.823956  [40016/60000]\n",
      "loss: 0.890542  [41616/60000]\n",
      "loss: 0.910645  [43216/60000]\n",
      "loss: 0.647832  [44816/60000]\n",
      "loss: 0.853673  [46416/60000]\n",
      "loss: 0.850092  [48016/60000]\n",
      "loss: 0.735007  [49616/60000]\n",
      "loss: 0.784063  [51216/60000]\n",
      "loss: 0.831196  [52816/60000]\n",
      "loss: 0.811534  [54416/60000]\n",
      "loss: 1.083204  [56016/60000]\n",
      "loss: 0.883244  [57616/60000]\n",
      "loss: 0.616239  [59216/60000]\n",
      "Test Error: \n",
      " Accuracy: 68.1%, Avg loss: 0.862573 \n",
      "\n",
      "Epoch 3\n",
      "-------------------------------\n",
      "loss: 0.842447  [   16/60000]\n",
      "loss: 0.721532  [ 1616/60000]\n",
      "loss: 0.774786  [ 3216/60000]\n",
      "loss: 0.847256  [ 4816/60000]\n",
      "loss: 0.725932  [ 6416/60000]\n",
      "loss: 0.895594  [ 8016/60000]\n",
      "loss: 0.886180  [ 9616/60000]\n",
      "loss: 0.648388  [11216/60000]\n",
      "loss: 0.830490  [12816/60000]\n",
      "loss: 0.720093  [14416/60000]\n",
      "loss: 0.883082  [16016/60000]\n",
      "loss: 0.685768  [17616/60000]\n",
      "loss: 0.623813  [19216/60000]\n",
      "loss: 1.346762  [20816/60000]\n",
      "loss: 0.807226  [22416/60000]\n",
      "loss: 0.854720  [24016/60000]\n",
      "loss: 0.596577  [25616/60000]\n",
      "loss: 0.998012  [27216/60000]\n",
      "loss: 1.047333  [28816/60000]\n",
      "loss: 0.758549  [30416/60000]\n",
      "loss: 0.748765  [32016/60000]\n",
      "loss: 0.414920  [33616/60000]\n",
      "loss: 0.516925  [35216/60000]\n",
      "loss: 0.759368  [36816/60000]\n",
      "loss: 1.151307  [38416/60000]\n",
      "loss: 0.692502  [40016/60000]\n",
      "loss: 0.755993  [41616/60000]\n",
      "loss: 0.693056  [43216/60000]\n",
      "loss: 0.494395  [44816/60000]\n",
      "loss: 0.678809  [46416/60000]\n",
      "loss: 0.653785  [48016/60000]\n",
      "loss: 0.574782  [49616/60000]\n",
      "loss: 0.586823  [51216/60000]\n",
      "loss: 0.668223  [52816/60000]\n",
      "loss: 0.699105  [54416/60000]\n",
      "loss: 0.987081  [56016/60000]\n",
      "loss: 0.813075  [57616/60000]\n",
      "loss: 0.519485  [59216/60000]\n",
      "Test Error: \n",
      " Accuracy: 73.2%, Avg loss: 0.741207 \n",
      "\n",
      "Epoch 4\n",
      "-------------------------------\n",
      "loss: 0.715381  [   16/60000]\n",
      "loss: 0.623513  [ 1616/60000]\n",
      "loss: 0.677204  [ 3216/60000]\n",
      "loss: 0.684802  [ 4816/60000]\n",
      "loss: 0.589857  [ 6416/60000]\n",
      "loss: 0.741194  [ 8016/60000]\n",
      "loss: 0.765899  [ 9616/60000]\n",
      "loss: 0.502727  [11216/60000]\n",
      "loss: 0.722043  [12816/60000]\n",
      "loss: 0.534475  [14416/60000]\n",
      "loss: 0.809365  [16016/60000]\n",
      "loss: 0.553614  [17616/60000]\n",
      "loss: 0.519497  [19216/60000]\n",
      "loss: 1.250572  [20816/60000]\n",
      "loss: 0.670726  [22416/60000]\n",
      "loss: 0.771369  [24016/60000]\n",
      "loss: 0.529879  [25616/60000]\n",
      "loss: 0.937865  [27216/60000]\n",
      "loss: 0.974430  [28816/60000]\n",
      "loss: 0.642701  [30416/60000]\n",
      "loss: 0.710061  [32016/60000]\n",
      "loss: 0.330822  [33616/60000]\n",
      "loss: 0.424404  [35216/60000]\n",
      "loss: 0.638245  [36816/60000]\n",
      "loss: 1.017020  [38416/60000]\n",
      "loss: 0.665736  [40016/60000]\n",
      "loss: 0.697451  [41616/60000]\n",
      "loss: 0.596003  [43216/60000]\n",
      "loss: 0.445105  [44816/60000]\n",
      "loss: 0.606181  [46416/60000]\n",
      "loss: 0.542063  [48016/60000]\n",
      "loss: 0.510323  [49616/60000]\n",
      "loss: 0.467346  [51216/60000]\n",
      "loss: 0.568177  [52816/60000]\n",
      "loss: 0.648598  [54416/60000]\n",
      "loss: 0.873169  [56016/60000]\n",
      "loss: 0.778355  [57616/60000]\n",
      "loss: 0.463737  [59216/60000]\n",
      "Test Error: \n",
      " Accuracy: 76.3%, Avg loss: 0.672168 \n",
      "\n",
      "Epoch 5\n",
      "-------------------------------\n",
      "loss: 0.631533  [   16/60000]\n",
      "loss: 0.579750  [ 1616/60000]\n",
      "loss: 0.634172  [ 3216/60000]\n",
      "loss: 0.590299  [ 4816/60000]\n",
      "loss: 0.499791  [ 6416/60000]\n",
      "loss: 0.651799  [ 8016/60000]\n",
      "loss: 0.698389  [ 9616/60000]\n",
      "loss: 0.424625  [11216/60000]\n",
      "loss: 0.635749  [12816/60000]\n",
      "loss: 0.420695  [14416/60000]\n",
      "loss: 0.781244  [16016/60000]\n",
      "loss: 0.466142  [17616/60000]\n",
      "loss: 0.458008  [19216/60000]\n",
      "loss: 1.186621  [20816/60000]\n",
      "loss: 0.576293  [22416/60000]\n",
      "loss: 0.720631  [24016/60000]\n",
      "loss: 0.503499  [25616/60000]\n",
      "loss: 0.876296  [27216/60000]\n",
      "loss: 0.889925  [28816/60000]\n",
      "loss: 0.572659  [30416/60000]\n",
      "loss: 0.692614  [32016/60000]\n",
      "loss: 0.281683  [33616/60000]\n",
      "loss: 0.367717  [35216/60000]\n",
      "loss: 0.552352  [36816/60000]\n",
      "loss: 0.893913  [38416/60000]\n",
      "loss: 0.662381  [40016/60000]\n",
      "loss: 0.659708  [41616/60000]\n",
      "loss: 0.536258  [43216/60000]\n",
      "loss: 0.422538  [44816/60000]\n",
      "loss: 0.556995  [46416/60000]\n",
      "loss: 0.470712  [48016/60000]\n",
      "loss: 0.475423  [49616/60000]\n",
      "loss: 0.384297  [51216/60000]\n",
      "loss: 0.490040  [52816/60000]\n",
      "loss: 0.617458  [54416/60000]\n",
      "loss: 0.764140  [56016/60000]\n",
      "loss: 0.747230  [57616/60000]\n",
      "loss: 0.419654  [59216/60000]\n",
      "Test Error: \n",
      " Accuracy: 78.3%, Avg loss: 0.624372 \n",
      "\n",
      "Done!\n"
     ]
    }
   ],
   "source": [
    "epochs = 5\n",
    "for t in range(epochs):\n",
    "    print(f\"Epoch {t+1}\\n-------------------------------\")\n",
    "    train(train_dataloader, model, loss_fn, optimizer)\n",
    "    test(test_dataloader, model, loss_fn)\n",
    "print(\"Done!\")"
   ]
  },
  {
   "cell_type": "markdown",
   "id": "15f8a8fc-e827-4f94-908e-85bc6bb1e7cf",
   "metadata": {},
   "source": [
    "### Saving models"
   ]
  },
  {
   "cell_type": "code",
   "execution_count": 11,
   "id": "922d4f30-f6a6-4d4c-ab8c-6a138538c0a1",
   "metadata": {},
   "outputs": [
    {
     "name": "stdout",
     "output_type": "stream",
     "text": [
      "Saved PyTorch Model State to model.pth\n"
     ]
    }
   ],
   "source": [
    "torch.save(model.state_dict(), \"model.pth\")\n",
    "print(\"Saved PyTorch Model State to model.pth\")"
   ]
  },
  {
   "cell_type": "markdown",
   "id": "911de5c3-85b5-480e-9017-903bdcc06170",
   "metadata": {},
   "source": [
    "### Loading models"
   ]
  },
  {
   "cell_type": "code",
   "execution_count": 12,
   "id": "30312271-e5f3-4f2d-9c9b-4aca5e133215",
   "metadata": {},
   "outputs": [
    {
     "data": {
      "text/plain": [
       "<All keys matched successfully>"
      ]
     },
     "execution_count": 12,
     "metadata": {},
     "output_type": "execute_result"
    }
   ],
   "source": [
    "model = NeuralNetwork().to(device)\n",
    "model.load_state_dict(torch.load(\"model.pth\"))"
   ]
  },
  {
   "cell_type": "markdown",
   "id": "2601acfb-efb6-41fd-9afb-0c4c5c68de75",
   "metadata": {},
   "source": [
    "### Making predictions"
   ]
  },
  {
   "cell_type": "code",
   "execution_count": 13,
   "id": "48276342-d878-47d5-ab2a-92fdca66555c",
   "metadata": {},
   "outputs": [
    {
     "name": "stdout",
     "output_type": "stream",
     "text": [
      "Predicted: \"Ankle boot\", Actual: \"Ankle boot\"\n"
     ]
    }
   ],
   "source": [
    "classes = [\n",
    "    \"T-shirt/top\",\n",
    "    \"Trouser\",\n",
    "    \"Pullover\",\n",
    "    \"Dress\",\n",
    "    \"Coat\",\n",
    "    \"Sandal\",\n",
    "    \"Shirt\",\n",
    "    \"Sneaker\",\n",
    "    \"Bag\",\n",
    "    \"Ankle boot\",\n",
    "]\n",
    "\n",
    "model.eval()\n",
    "x, y = test_data[0][0], test_data[0][1]\n",
    "with torch.no_grad():\n",
    "    x = x.to(device)\n",
    "    pred = model(x)\n",
    "    predicted, actual = classes[pred[0].argmax(0)], classes[y]\n",
    "    print(f'Predicted: \"{predicted}\", Actual: \"{actual}\"')"
   ]
  }
 ],
 "metadata": {
  "kernelspec": {
   "display_name": "Python 3 (ipykernel)",
   "language": "python",
   "name": "python3"
  },
  "language_info": {
   "codemirror_mode": {
    "name": "ipython",
    "version": 3
   },
   "file_extension": ".py",
   "mimetype": "text/x-python",
   "name": "python",
   "nbconvert_exporter": "python",
   "pygments_lexer": "ipython3",
   "version": "3.11.5"
  }
 },
 "nbformat": 4,
 "nbformat_minor": 5
}
