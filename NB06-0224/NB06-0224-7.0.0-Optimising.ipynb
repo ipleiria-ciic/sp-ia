{
 "cells": [
  {
   "cell_type": "markdown",
   "id": "436a8134-0821-4926-919f-2e8544e551a1",
   "metadata": {},
   "source": [
    "## PyTorch: Optimizing Model Parameters"
   ]
  },
  {
   "cell_type": "markdown",
   "id": "d7f5539f-5dff-4061-b8af-f51c38e07a24",
   "metadata": {},
   "source": [
    "Now that we have a model and data it’s time to train, validate and test our model by optimizing its parameters on our data. Training a model is an iterative process; in each iteration the model makes a guess about the output, calculates the error in its guess (loss), collects the derivatives of the error with respect to its parameters, and optimizes these parameters using gradient descent."
   ]
  },
  {
   "cell_type": "markdown",
   "id": "58b53410-4d99-4bf8-9452-d6b5c19cea3c",
   "metadata": {},
   "source": [
    "### Prerequisite Code"
   ]
  },
  {
   "cell_type": "code",
   "execution_count": 1,
   "id": "6e90c3a0-eb9e-493d-8ef8-d8c81e9a3c6e",
   "metadata": {},
   "outputs": [],
   "source": [
    "import torch\n",
    "from torch import nn\n",
    "from torch.utils.data import DataLoader\n",
    "from torchvision import datasets\n",
    "from torchvision.transforms import ToTensor\n",
    "\n",
    "training_data = datasets.FashionMNIST(\n",
    "    root=\"Datasets\",\n",
    "    train=True,\n",
    "    download=False,\n",
    "    transform=ToTensor()\n",
    ")\n",
    "\n",
    "test_data = datasets.FashionMNIST(\n",
    "    root=\"Datasets\",\n",
    "    train=False,\n",
    "    download=False,\n",
    "    transform=ToTensor()\n",
    ")\n",
    "\n",
    "train_dataloader = DataLoader(training_data, batch_size=64)\n",
    "test_dataloader = DataLoader(test_data, batch_size=64)\n",
    "\n",
    "class NeuralNetwork(nn.Module):\n",
    "    def __init__(self):\n",
    "        super().__init__()\n",
    "        self.flatten = nn.Flatten()\n",
    "        self.linear_relu_stack = nn.Sequential(\n",
    "            nn.Linear(28*28, 512),\n",
    "            nn.ReLU(),\n",
    "            nn.Linear(512, 512),\n",
    "            nn.ReLU(),\n",
    "            nn.Linear(512, 10),\n",
    "        )\n",
    "\n",
    "    def forward(self, x):\n",
    "        x = self.flatten(x)\n",
    "        logits = self.linear_relu_stack(x)\n",
    "        return logits\n",
    "\n",
    "model = NeuralNetwork()"
   ]
  },
  {
   "cell_type": "markdown",
   "id": "96702106-8f9f-46ea-a4d1-54e033cefb7b",
   "metadata": {},
   "source": [
    "### Hyperparameters"
   ]
  },
  {
   "cell_type": "markdown",
   "id": "0f228f98-09d4-4cef-b09d-b946b67cf00f",
   "metadata": {},
   "source": [
    "We define the following hyperparameters for training:\n",
    "\n",
    "- **Number of Epochs** - the number times to iterate over the dataset\n",
    "- **Batch Size** - the number of data samples propagated through the network before the parameters are updated\n",
    "- **Learning Rate** - how much to update models parameters at each batch/epoch. Smaller values yield slow learning speed, while large values may result in unpredictable behavior during training."
   ]
  },
  {
   "cell_type": "code",
   "execution_count": 2,
   "id": "dbce6ddd-c1f4-4217-8974-8bb0ca32e56b",
   "metadata": {},
   "outputs": [],
   "source": [
    "learning_rate = 1e-3\n",
    "batch_size = 64\n",
    "epochs = 5"
   ]
  },
  {
   "cell_type": "markdown",
   "id": "554e8410-2b96-473a-b16e-8542901fb04d",
   "metadata": {},
   "source": [
    "### Optimization Loop"
   ]
  },
  {
   "cell_type": "markdown",
   "id": "4fcec991-e103-4c3d-ab94-2069dcd4360e",
   "metadata": {},
   "source": [
    "Once we set our hyperparameters, we can then train and optimize our model with an optimization loop. Each iteration of the optimization loop is called an epoch.\n",
    "\n",
    "\n",
    "Each epoch consists of two main parts:\n",
    "\n",
    "- **The Train Loop** - iterate over the training dataset and try to converge to optimal parameters.\n",
    "- **The Validation/Test Loop** - iterate over the test dataset to check if model performance is improving."
   ]
  },
  {
   "cell_type": "markdown",
   "id": "bd54e71c-a91f-415e-90cf-07d567130799",
   "metadata": {},
   "source": [
    "### Loss Function"
   ]
  },
  {
   "cell_type": "markdown",
   "id": "a775fb24-a102-4fc2-aae2-8763299771d3",
   "metadata": {},
   "source": [
    "When presented with some training data, our untrained network is likely not to give the correct answer. <mark>Loss function measures the degree of dissimilarity of obtained result to the target value, and it is the loss function that we want to minimize during training.</mark> To calculate the loss we make a prediction using the inputs of our given data sample and compare it against the true data label value.\n",
    "\n",
    "Common loss functions include `nn.MSELoss` (Mean Square Error) for regression tasks, and `nn.NLLLoss` (Negative Log Likelihood) for classification. `nn.CrossEntropyLoss` combines `nn.LogSoftmax` and `nn.NLLLoss`."
   ]
  },
  {
   "cell_type": "code",
   "execution_count": 3,
   "id": "894b1b61-6843-40dc-9936-a5e1afcef57a",
   "metadata": {},
   "outputs": [],
   "source": [
    "# Initialize the loss function\n",
    "loss_fn = nn.CrossEntropyLoss()"
   ]
  },
  {
   "cell_type": "markdown",
   "id": "d5d1f25f-a67f-439b-bdf5-8303d4faabc3",
   "metadata": {},
   "source": [
    "### Optimizer"
   ]
  },
  {
   "cell_type": "markdown",
   "id": "7241d94b-e683-4188-a2e4-62d0bc168016",
   "metadata": {},
   "source": [
    "<mark>Optimization is the process of adjusting model parameters to reduce model error in each training step.</mark> Optimization algorithms define how this process is performed (in this example we use Stochastic Gradient Descent). All optimization logic is encapsulated in the optimizer object. Here, we use the SGD optimizer; additionally, there are many different optimizers available in PyTorch such as ADAM and RMSProp, that work better for different kinds of models and data."
   ]
  },
  {
   "cell_type": "code",
   "execution_count": 4,
   "id": "9ac691fb-71af-4e73-aa76-fc7f692e4b4e",
   "metadata": {},
   "outputs": [],
   "source": [
    "optimizer = torch.optim.SGD(model.parameters(), lr=learning_rate)"
   ]
  },
  {
   "cell_type": "markdown",
   "id": "7afce1a4-f5cc-4e24-ac07-fc487090dc7c",
   "metadata": {},
   "source": [
    "Inside the training loop, optimization happens in three steps:\n",
    "\n",
    "- Call `optimizer.zero_grad()` to reset the gradients of model parameters. Gradients by default add up; to prevent double-counting, we explicitly zero them at each iteration.\n",
    "- Backpropagate the prediction loss with a call to `loss.backward()`. PyTorch deposits the gradients of the loss w.r.t. each parameter.\n",
    "- Once we have our gradients, we call `optimizer.step()` to adjust the parameters by the gradients collected in the backward pass."
   ]
  },
  {
   "cell_type": "markdown",
   "id": "628c7736-5178-46f4-be07-506b1d2a0fcc",
   "metadata": {},
   "source": [
    "### Full Implementation"
   ]
  },
  {
   "cell_type": "code",
   "execution_count": 5,
   "id": "1f6d02bc-3352-486b-8a27-8d5c23b90b6c",
   "metadata": {},
   "outputs": [],
   "source": [
    "def train_loop(dataloader, model, loss_fn, optimizer):\n",
    "    size = len(dataloader.dataset)\n",
    "    # Set the model to training mode - important for batch normalization and dropout layers\n",
    "    # Unnecessary in this situation but added for best practices\n",
    "    model.train()\n",
    "    for batch, (X, y) in enumerate(dataloader):\n",
    "        # Compute prediction and loss\n",
    "        pred = model(X)\n",
    "        loss = loss_fn(pred, y)\n",
    "\n",
    "        # Backpropagation\n",
    "        loss.backward()\n",
    "        optimizer.step()\n",
    "        optimizer.zero_grad()\n",
    "\n",
    "        if batch % 100 == 0:\n",
    "            loss, current = loss.item(), batch * batch_size + len(X)\n",
    "            print(f\"loss: {loss:>7f}  [{current:>5d}/{size:>5d}]\")\n",
    "\n",
    "\n",
    "def test_loop(dataloader, model, loss_fn):\n",
    "    # Set the model to evaluation mode - important for batch normalization and dropout layers\n",
    "    # Unnecessary in this situation but added for best practices\n",
    "    model.eval()\n",
    "    size = len(dataloader.dataset)\n",
    "    num_batches = len(dataloader)\n",
    "    test_loss, correct = 0, 0\n",
    "\n",
    "    # Evaluating the model with torch.no_grad() ensures that no gradients are computed during test mode\n",
    "    # also serves to reduce unnecessary gradient computations and memory usage for tensors with requires_grad=True\n",
    "    with torch.no_grad():\n",
    "        for X, y in dataloader:\n",
    "            pred = model(X)\n",
    "            test_loss += loss_fn(pred, y).item()\n",
    "            correct += (pred.argmax(1) == y).type(torch.float).sum().item()\n",
    "\n",
    "    test_loss /= num_batches\n",
    "    correct /= size\n",
    "    print(f\"Test Error: \\n Accuracy: {(100*correct):>0.1f}%, Avg loss: {test_loss:>8f} \\n\")"
   ]
  },
  {
   "cell_type": "markdown",
   "id": "08ab3015-aa64-49b2-b4fb-7d574932b358",
   "metadata": {},
   "source": [
    "We initialize the loss function and optimizer, and pass it to `train_loop` and `test_loop`."
   ]
  },
  {
   "cell_type": "code",
   "execution_count": 6,
   "id": "7c214675-b89a-4783-add7-3b36c23dd51c",
   "metadata": {},
   "outputs": [
    {
     "name": "stdout",
     "output_type": "stream",
     "text": [
      "Epoch 1\n",
      "-------------------------------\n",
      "loss: 2.309683  [   64/60000]\n",
      "loss: 2.307867  [ 6464/60000]\n",
      "loss: 2.293456  [12864/60000]\n",
      "loss: 2.278289  [19264/60000]\n",
      "loss: 2.268153  [25664/60000]\n",
      "loss: 2.240528  [32064/60000]\n",
      "loss: 2.235771  [38464/60000]\n",
      "loss: 2.215201  [44864/60000]\n",
      "loss: 2.216421  [51264/60000]\n",
      "loss: 2.170178  [57664/60000]\n",
      "Test Error: \n",
      " Accuracy: 41.7%, Avg loss: 2.181629 \n",
      "\n",
      "Epoch 2\n",
      "-------------------------------\n",
      "loss: 2.191872  [   64/60000]\n",
      "loss: 2.191581  [ 6464/60000]\n",
      "loss: 2.143619  [12864/60000]\n",
      "loss: 2.145250  [19264/60000]\n",
      "loss: 2.120014  [25664/60000]\n",
      "loss: 2.058399  [32064/60000]\n",
      "loss: 2.074970  [38464/60000]\n",
      "loss: 2.019395  [44864/60000]\n",
      "loss: 2.022014  [51264/60000]\n",
      "loss: 1.929731  [57664/60000]\n",
      "Test Error: \n",
      " Accuracy: 59.6%, Avg loss: 1.954926 \n",
      "\n",
      "Epoch 3\n",
      "-------------------------------\n",
      "loss: 1.986860  [   64/60000]\n",
      "loss: 1.969441  [ 6464/60000]\n",
      "loss: 1.866733  [12864/60000]\n",
      "loss: 1.881973  [19264/60000]\n",
      "loss: 1.807331  [25664/60000]\n",
      "loss: 1.736098  [32064/60000]\n",
      "loss: 1.746102  [38464/60000]\n",
      "loss: 1.660318  [44864/60000]\n",
      "loss: 1.672679  [51264/60000]\n",
      "loss: 1.537733  [57664/60000]\n",
      "Test Error: \n",
      " Accuracy: 61.7%, Avg loss: 1.582931 \n",
      "\n",
      "Epoch 4\n",
      "-------------------------------\n",
      "loss: 1.648217  [   64/60000]\n",
      "loss: 1.616206  [ 6464/60000]\n",
      "loss: 1.468261  [12864/60000]\n",
      "loss: 1.520635  [19264/60000]\n",
      "loss: 1.412525  [25664/60000]\n",
      "loss: 1.386644  [32064/60000]\n",
      "loss: 1.399636  [38464/60000]\n",
      "loss: 1.324342  [44864/60000]\n",
      "loss: 1.353651  [51264/60000]\n",
      "loss: 1.230996  [57664/60000]\n",
      "Test Error: \n",
      " Accuracy: 63.5%, Avg loss: 1.277478 \n",
      "\n",
      "Epoch 5\n",
      "-------------------------------\n",
      "loss: 1.356614  [   64/60000]\n",
      "loss: 1.339104  [ 6464/60000]\n",
      "loss: 1.169631  [12864/60000]\n",
      "loss: 1.270028  [19264/60000]\n",
      "loss: 1.147372  [25664/60000]\n",
      "loss: 1.159418  [32064/60000]\n",
      "loss: 1.187709  [38464/60000]\n",
      "loss: 1.120943  [44864/60000]\n",
      "loss: 1.155824  [51264/60000]\n",
      "loss: 1.057351  [57664/60000]\n",
      "Test Error: \n",
      " Accuracy: 64.6%, Avg loss: 1.094533 \n",
      "\n",
      "Epoch 6\n",
      "-------------------------------\n",
      "loss: 1.168209  [   64/60000]\n",
      "loss: 1.170828  [ 6464/60000]\n",
      "loss: 0.983053  [12864/60000]\n",
      "loss: 1.121085  [19264/60000]\n",
      "loss: 0.994484  [25664/60000]\n",
      "loss: 1.016845  [32064/60000]\n",
      "loss: 1.062576  [38464/60000]\n",
      "loss: 0.997853  [44864/60000]\n",
      "loss: 1.033853  [51264/60000]\n",
      "loss: 0.953490  [57664/60000]\n",
      "Test Error: \n",
      " Accuracy: 65.9%, Avg loss: 0.982332 \n",
      "\n",
      "Epoch 7\n",
      "-------------------------------\n",
      "loss: 1.044574  [   64/60000]\n",
      "loss: 1.066671  [ 6464/60000]\n",
      "loss: 0.861285  [12864/60000]\n",
      "loss: 1.025636  [19264/60000]\n",
      "loss: 0.903555  [25664/60000]\n",
      "loss: 0.920615  [32064/60000]\n",
      "loss: 0.982886  [38464/60000]\n",
      "loss: 0.920395  [44864/60000]\n",
      "loss: 0.952939  [51264/60000]\n",
      "loss: 0.885513  [57664/60000]\n",
      "Test Error: \n",
      " Accuracy: 67.1%, Avg loss: 0.908236 \n",
      "\n",
      "Epoch 8\n",
      "-------------------------------\n",
      "loss: 0.956228  [   64/60000]\n",
      "loss: 0.996644  [ 6464/60000]\n",
      "loss: 0.776640  [12864/60000]\n",
      "loss: 0.959199  [19264/60000]\n",
      "loss: 0.844895  [25664/60000]\n",
      "loss: 0.851683  [32064/60000]\n",
      "loss: 0.927648  [38464/60000]\n",
      "loss: 0.869187  [44864/60000]\n",
      "loss: 0.895695  [51264/60000]\n",
      "loss: 0.837016  [57664/60000]\n",
      "Test Error: \n",
      " Accuracy: 68.2%, Avg loss: 0.855582 \n",
      "\n",
      "Epoch 9\n",
      "-------------------------------\n",
      "loss: 0.888799  [   64/60000]\n",
      "loss: 0.945078  [ 6464/60000]\n",
      "loss: 0.714163  [12864/60000]\n",
      "loss: 0.910133  [19264/60000]\n",
      "loss: 0.803608  [25664/60000]\n",
      "loss: 0.800675  [32064/60000]\n",
      "loss: 0.885967  [38464/60000]\n",
      "loss: 0.833401  [44864/60000]\n",
      "loss: 0.853481  [51264/60000]\n",
      "loss: 0.800474  [57664/60000]\n",
      "Test Error: \n",
      " Accuracy: 69.5%, Avg loss: 0.816011 \n",
      "\n",
      "Epoch 10\n",
      "-------------------------------\n",
      "loss: 0.835152  [   64/60000]\n",
      "loss: 0.904308  [ 6464/60000]\n",
      "loss: 0.666281  [12864/60000]\n",
      "loss: 0.872330  [19264/60000]\n",
      "loss: 0.772451  [25664/60000]\n",
      "loss: 0.761665  [32064/60000]\n",
      "loss: 0.852598  [38464/60000]\n",
      "loss: 0.806885  [44864/60000]\n",
      "loss: 0.820862  [51264/60000]\n",
      "loss: 0.771408  [57664/60000]\n",
      "Test Error: \n",
      " Accuracy: 71.0%, Avg loss: 0.784605 \n",
      "\n",
      "Done!\n"
     ]
    }
   ],
   "source": [
    "loss_fn = nn.CrossEntropyLoss()\n",
    "optimizer = torch.optim.SGD(model.parameters(), lr=learning_rate)\n",
    "\n",
    "epochs = 10\n",
    "for t in range(epochs):\n",
    "    print(f\"Epoch {t+1}\\n-------------------------------\")\n",
    "    train_loop(train_dataloader, model, loss_fn, optimizer)\n",
    "    test_loop(test_dataloader, model, loss_fn)\n",
    "print(\"Done!\")"
   ]
  }
 ],
 "metadata": {
  "kernelspec": {
   "display_name": "Python 3 (ipykernel)",
   "language": "python",
   "name": "python3"
  },
  "language_info": {
   "codemirror_mode": {
    "name": "ipython",
    "version": 3
   },
   "file_extension": ".py",
   "mimetype": "text/x-python",
   "name": "python",
   "nbconvert_exporter": "python",
   "pygments_lexer": "ipython3",
   "version": "3.11.5"
  }
 },
 "nbformat": 4,
 "nbformat_minor": 5
}
