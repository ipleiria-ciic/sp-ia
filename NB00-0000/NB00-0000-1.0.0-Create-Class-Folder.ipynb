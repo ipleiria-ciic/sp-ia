{
 "cells": [
  {
   "cell_type": "markdown",
   "id": "6891cf84-5b42-4cdd-b260-461ca921335c",
   "metadata": {},
   "source": [
    "### Create a custom folder for each class within a dataset"
   ]
  },
  {
   "cell_type": "code",
   "execution_count": 1,
   "id": "d64f96ca-8ef5-4ccc-9785-20ad91ed8d24",
   "metadata": {},
   "outputs": [],
   "source": [
    "import os\n",
    "import shutil"
   ]
  },
  {
   "cell_type": "code",
   "execution_count": 2,
   "id": "d4fab1bc-0116-44a6-9f32-24a9aaabb86a",
   "metadata": {},
   "outputs": [],
   "source": [
    "# Directory containing the images\n",
    "source_dir = '../Datasets/TRM-UAP'"
   ]
  },
  {
   "cell_type": "code",
   "execution_count": 4,
   "id": "ed9fcb88-df67-4fe7-a7ea-f748ee9e1889",
   "metadata": {},
   "outputs": [
    {
     "name": "stdout",
     "output_type": "stream",
     "text": [
      "Images have been organized into class folders.\n",
      "CPU times: user 251 ms, sys: 1.33 s, total: 1.59 s\n",
      "Wall time: 1.59 s\n"
     ]
    }
   ],
   "source": [
    "%%time\n",
    "\n",
    "# Iterate over each file in the source directory\n",
    "for filename in os.listdir(source_dir):\n",
    "    if not filename.endswith('.png'):\n",
    "        continue\n",
    "    \n",
    "    # Extract class from the filename and remove the extension\n",
    "    class_name = os.path.splitext(filename.split('_')[1])[0]\n",
    "    \n",
    "    # Create a directory for the class if it doesn't exist\n",
    "    class_dir = os.path.join(source_dir, class_name)\n",
    "    if not os.path.exists(class_dir):\n",
    "        os.makedirs(class_dir)\n",
    "    \n",
    "    # Move the file to the class directory\n",
    "    src_file = os.path.join(source_dir, filename)\n",
    "    dst_file = os.path.join(class_dir, filename)\n",
    "    shutil.move(src_file, dst_file)\n",
    "\n",
    "print(\"Images have been organized into class folders.\")"
   ]
  }
 ],
 "metadata": {
  "kernelspec": {
   "display_name": "Python 3 (ipykernel)",
   "language": "python",
   "name": "python3"
  },
  "language_info": {
   "codemirror_mode": {
    "name": "ipython",
    "version": 3
   },
   "file_extension": ".py",
   "mimetype": "text/x-python",
   "name": "python",
   "nbconvert_exporter": "python",
   "pygments_lexer": "ipython3",
   "version": "3.11.5"
  }
 },
 "nbformat": 4,
 "nbformat_minor": 5
}
