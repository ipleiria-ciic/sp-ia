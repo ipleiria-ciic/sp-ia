{
 "cells": [
  {
   "cell_type": "markdown",
   "metadata": {},
   "source": [
    "### DEBUG - TST2207"
   ]
  },
  {
   "cell_type": "code",
   "execution_count": null,
   "metadata": {},
   "outputs": [],
   "source": [
    "# Utils\n",
    "import random\n",
    "import numpy as np\n",
    "import matplotlib.pyplot as plt\n",
    "from collections import defaultdict\n",
    "\n",
    "# Torch\n",
    "import torch\n",
    "import torchvision\n",
    "import torchvision.models as models\n",
    "import torchvision.transforms as transforms\n",
    "from torch.utils.data import DataLoader, Subset\n",
    "from torchvision import datasets"
   ]
  },
  {
   "cell_type": "code",
   "execution_count": null,
   "metadata": {},
   "outputs": [],
   "source": [
    "device = torch.device(\"cuda\" if torch.cuda.is_available() else \"cpu\")\n",
    "uap_path = \"./perturbations/uap_vgg16.npy\"\n",
    "dataset_dir = './dataset/train/'"
   ]
  },
  {
   "cell_type": "code",
   "execution_count": null,
   "metadata": {},
   "outputs": [],
   "source": [
    "def process_image(img, transpose=False, numpy=False):\n",
    "    \"\"\"\n",
    "    Preprocess the images to displays them in a plot.\n",
    "\n",
    "    Parameters:\n",
    "    - img: The image to preprocess.\n",
    "    - transpose: Bool value if the img needs to be transposed.\n",
    "    - numpy: Flag to identify if the image is already in a numpy array.\n",
    "\n",
    "    Returns:\n",
    "    - img: The image preprocessed.       \n",
    "    \"\"\"        \n",
    "    if transpose:\n",
    "        if numpy is False:\n",
    "            img = img.numpy()\n",
    "        img = img.transpose((1, 2, 0)) # Transform (X, Y, Z) shape\n",
    "    img = (img - img.min()) / (img.max() - img.min()) # Clip the image to [0, 255] values\n",
    "    return img\n"
   ]
  },
  {
   "cell_type": "code",
   "execution_count": null,
   "metadata": {},
   "outputs": [],
   "source": [
    "def obj_variance(obj, type=None):\n",
    "    \"\"\"\n",
    "    Display the maximum and minimum value in a given object.\n",
    "\n",
    "    Parameters:\n",
    "    - obj: A given object.\n",
    "    - type: Object type. Can be \"tensor\" and \"numpy\".\n",
    "    \"\"\"\n",
    "\n",
    "    if type == \"tensor\":\n",
    "        tensor_min = torch.min(obj)\n",
    "        tensor_max = torch.max(obj)\n",
    "        \n",
    "        print(\"Maximum value:\", \"{:.5f}\".format(tensor_max.item()))\n",
    "        print(\"Minimum value:\", \"{:.5f}\".format(tensor_min.item()))\n",
    "    else:\n",
    "        numpy_min = \"{:.5f}\".format(np.max(obj))\n",
    "        numpy_max = \"{:.5f}\".format(np.min(obj))\n",
    "        \n",
    "        print(\"Maximum value:\", numpy_max)\n",
    "        print(\"Minimum value:\", numpy_min)"
   ]
  },
  {
   "cell_type": "code",
   "execution_count": null,
   "metadata": {},
   "outputs": [],
   "source": [
    "def get_min_max(tensor):\n",
    "    min_val = torch.min(tensor)\n",
    "    max_val = torch.max(tensor)\n",
    "    print(\"Min: \" + str(min_val))\n",
    "    print(\"Max: \" + str(max_val))"
   ]
  },
  {
   "cell_type": "code",
   "execution_count": null,
   "metadata": {},
   "outputs": [],
   "source": [
    "def normalize(x):\n",
    "    mean = torch.Tensor([0.485, 0.456, 0.406])\n",
    "    std = torch.Tensor([0.229, 0.224, 0.225])\n",
    "    return (x - mean.type_as(x)[None,:,None,None]) / std.type_as(x)[None,:,None,None]"
   ]
  },
  {
   "cell_type": "code",
   "execution_count": null,
   "metadata": {},
   "outputs": [],
   "source": [
    "def get_uap(path, device):\n",
    "    uap = np.load(path)\n",
    "    uap = torch.tensor(uap, device=device)\n",
    "    return uap"
   ]
  },
  {
   "cell_type": "code",
   "execution_count": null,
   "metadata": {},
   "outputs": [],
   "source": [
    "### @joseareia -- 2024-07-19\n",
    "def prepare_model(model_name, device):\n",
    "    model = getattr(models, model_name)(pretrained=True).to(device)\n",
    "    return model"
   ]
  },
  {
   "cell_type": "code",
   "execution_count": null,
   "metadata": {},
   "outputs": [],
   "source": [
    "### @joseareia -- 2024-07-23\n",
    "def get_dataloader(dataset, batch_size, num_images, shuffle=True):\n",
    "    transform = transforms.Compose([\n",
    "        transforms.Resize(224),\n",
    "        transforms.CenterCrop(224),\n",
    "        transforms.ToTensor(),\n",
    "    ])\n",
    "    \n",
    "    val_dataset =  datasets.ImageFolder(dataset, transform=transform)\n",
    "    \n",
    "    num_classes = len(val_dataset.classes)\n",
    "    \n",
    "    class_indices = {i: [] for i in range(num_classes)}\n",
    "    for idx, (_, label) in enumerate(val_dataset.samples):\n",
    "        class_indices[label].append(idx)\n",
    "        \n",
    "    samples_per_class = num_images // num_classes\n",
    "    \n",
    "    subset_indices = []\n",
    "    for i in range(num_classes):\n",
    "        class_subset_indices = np.random.choice(class_indices[i], samples_per_class, replace=False).tolist()\n",
    "        subset_indices.extend(class_subset_indices)\n",
    "        \n",
    "    val_subset = Subset(val_dataset, subset_indices)\n",
    "    \n",
    "    dataloader = torch.utils.data.DataLoader(val_subset, batch_size=batch_size, shuffle=shuffle, num_workers=2)\n",
    "    \n",
    "    return dataloader"
   ]
  },
  {
   "cell_type": "code",
   "execution_count": null,
   "metadata": {},
   "outputs": [],
   "source": [
    "def get_fooling_rate(model, delta, dataloader):\n",
    "    adv_dataset = []\n",
    "    adv_classes = []\n",
    "    \n",
    "    model.eval()    \n",
    "    with torch.no_grad():\n",
    "        for batch in dataloader:\n",
    "            images, labels = batch\n",
    "            images = images.to(device)\n",
    "            labels = labels.to(device)\n",
    "\n",
    "            outputs = model(normalize(images))\n",
    "            _, predicted = torch.max(outputs.data, 1)\n",
    "\n",
    "            adv_images = torch.add(delta, images).clamp(0, 1)\n",
    "            adv_outputs = model(normalize(adv_images))\n",
    "\n",
    "            _, adv_predicted = torch.max(adv_outputs.data, 1)\n",
    "\n",
    "            ### Beginning of changes by @joseareia -- 2024-07-22\n",
    "                \n",
    "            misclassified_indices = (predicted != adv_predicted).nonzero(as_tuple=True)[0]\n",
    "            if misclassified_indices.numel() > 0:\n",
    "                adv_dataset.append(adv_images[misclassified_indices].cpu())\n",
    "                adv_classes.append(adv_predicted.cpu())\n",
    "                \n",
    "            del images, labels, outputs, adv_images, adv_outputs, predicted, adv_predicted\n",
    "            torch.cuda.empty_cache()\n",
    "            \n",
    "            ### End of changes by @joseareia\n",
    "    \n",
    "    return adv_dataset, adv_classes"
   ]
  },
  {
   "cell_type": "code",
   "execution_count": null,
   "metadata": {},
   "outputs": [],
   "source": [
    "%%time\n",
    "uap = get_uap(uap_path, device)"
   ]
  },
  {
   "cell_type": "code",
   "execution_count": null,
   "metadata": {},
   "outputs": [],
   "source": [
    "%%time\n",
    "model = prepare_model('vgg16', device)"
   ]
  },
  {
   "cell_type": "code",
   "execution_count": null,
   "metadata": {},
   "outputs": [],
   "source": [
    "%%time\n",
    "dataloader = get_dataloader(dataset=dataset_dir, batch_size=4, num_images=5000, shuffle=True)"
   ]
  },
  {
   "cell_type": "code",
   "execution_count": null,
   "metadata": {
    "scrolled": true
   },
   "outputs": [],
   "source": [
    "%%time\n",
    "delta = torch.clamp(uap, -10/255, 10/255)\n",
    "adv_images = get_fooling_rate(model, delta, dataloader)"
   ]
  },
  {
   "cell_type": "code",
   "execution_count": null,
   "metadata": {},
   "outputs": [],
   "source": [
    "total_images = len(adv_images)*4\n",
    "print(\"Total images: \" + str(total_images))"
   ]
  },
  {
   "cell_type": "code",
   "execution_count": null,
   "metadata": {
    "scrolled": false
   },
   "outputs": [],
   "source": [
    "adv_images_processed = process_image(adv_images[0][0].squeeze().cpu(), transpose=True, numpy=False)\n",
    "plt.figure(figsize = (7,7))\n",
    "plt.imshow(adv_images_processed)"
   ]
  },
  {
   "cell_type": "code",
   "execution_count": null,
   "metadata": {},
   "outputs": [],
   "source": [
    "imgs, labels = next(iter(dataloader))"
   ]
  },
  {
   "cell_type": "code",
   "execution_count": null,
   "metadata": {},
   "outputs": [],
   "source": [
    "images_processed = process_image(imgs[0].squeeze().cpu(), transpose=True, numpy=False)\n",
    "plt.figure(figsize = (7,7))\n",
    "plt.imshow(images_processed)"
   ]
  },
  {
   "cell_type": "markdown",
   "metadata": {},
   "source": [
    "---"
   ]
  },
  {
   "cell_type": "markdown",
   "metadata": {},
   "source": [
    "### DEBUG --- RETRIEVE ALL CLASSES"
   ]
  },
  {
   "cell_type": "code",
   "execution_count": null,
   "metadata": {},
   "outputs": [],
   "source": [
    "dataset = './dataset/train/'"
   ]
  },
  {
   "cell_type": "code",
   "execution_count": null,
   "metadata": {},
   "outputs": [],
   "source": [
    "transform = transforms.Compose([\n",
    "    transforms.Resize(224),\n",
    "    transforms.CenterCrop(224),\n",
    "    transforms.ToTensor(),\n",
    "])\n",
    "\n",
    "val_dataset =  datasets.ImageFolder(dataset, transform=transform)\n",
    "\n",
    "len(val_dataset)"
   ]
  },
  {
   "cell_type": "code",
   "execution_count": null,
   "metadata": {},
   "outputs": [],
   "source": [
    "num_classes = len(val_dataset.classes)"
   ]
  },
  {
   "cell_type": "code",
   "execution_count": null,
   "metadata": {},
   "outputs": [],
   "source": [
    "num_classes"
   ]
  },
  {
   "cell_type": "code",
   "execution_count": null,
   "metadata": {},
   "outputs": [],
   "source": [
    "class_indices = {i: [] for i in range(num_classes)}\n",
    "for idx, (_, label) in enumerate(val_dataset.samples):\n",
    "    class_indices[label].append(idx)"
   ]
  },
  {
   "cell_type": "code",
   "execution_count": null,
   "metadata": {},
   "outputs": [],
   "source": [
    "samples_per_class = 1000 // num_classes"
   ]
  },
  {
   "cell_type": "code",
   "execution_count": null,
   "metadata": {},
   "outputs": [],
   "source": [
    "subset_indices = []\n",
    "for i in range(num_classes):\n",
    "    class_subset_indices = np.random.choice(class_indices[i], samples_per_class, replace=False).tolist()\n",
    "    subset_indices.extend(class_subset_indices)"
   ]
  },
  {
   "cell_type": "code",
   "execution_count": null,
   "metadata": {},
   "outputs": [],
   "source": [
    "val_subset = Subset(val_dataset, subset_indices)"
   ]
  },
  {
   "cell_type": "code",
   "execution_count": null,
   "metadata": {},
   "outputs": [],
   "source": [
    "dataloader = torch.utils.data.DataLoader(val_subset, batch_size=8, shuffle=True, num_workers=2)"
   ]
  },
  {
   "cell_type": "code",
   "execution_count": null,
   "metadata": {},
   "outputs": [],
   "source": [
    "len(dataloader)"
   ]
  },
  {
   "cell_type": "code",
   "execution_count": null,
   "metadata": {},
   "outputs": [],
   "source": [
    "imgs, labels = next(iter(dataloader))"
   ]
  },
  {
   "cell_type": "code",
   "execution_count": null,
   "metadata": {},
   "outputs": [],
   "source": [
    "len(imgs)"
   ]
  }
 ],
 "metadata": {
  "kernelspec": {
   "display_name": "Python 3",
   "language": "python",
   "name": "python3"
  },
  "language_info": {
   "codemirror_mode": {
    "name": "ipython",
    "version": 3
   },
   "file_extension": ".py",
   "mimetype": "text/x-python",
   "name": "python",
   "nbconvert_exporter": "python",
   "pygments_lexer": "ipython3",
   "version": "3.6.13"
  }
 },
 "nbformat": 4,
 "nbformat_minor": 4
}
