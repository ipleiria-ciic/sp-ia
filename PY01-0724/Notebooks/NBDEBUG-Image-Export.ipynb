{
 "cells": [
  {
   "cell_type": "markdown",
   "metadata": {},
   "source": [
    "### DEBUG: Image Export\n",
    "\n",
    "This document intends to generate an adversarial dataset within a given subset of tensors."
   ]
  },
  {
   "cell_type": "code",
   "execution_count": 1,
   "metadata": {},
   "outputs": [],
   "source": [
    "# Miscellaneous\n",
    "import os\n",
    "import json\n",
    "import torch\n",
    "from torchvision.transforms import ToPILImage\n",
    "from PIL import Image\n",
    "\n",
    "# Utils\n",
    "from Utils import *"
   ]
  },
  {
   "cell_type": "code",
   "execution_count": 2,
   "metadata": {},
   "outputs": [],
   "source": [
    "OutputPath = 'Dataset/Images'"
   ]
  },
  {
   "cell_type": "code",
   "execution_count": 8,
   "metadata": {},
   "outputs": [],
   "source": [
    "File = open('Dataset/ClassIndexLabel.json')\n",
    "IndexClassNames = json.load(File)\n",
    "IndexClassNames = {int(key): value for key, value in IndexClassNames.items()}"
   ]
  },
  {
   "cell_type": "code",
   "execution_count": 9,
   "metadata": {},
   "outputs": [
    {
     "name": "stdout",
     "output_type": "stream",
     "text": [
      "CPU times: user 0 ns, sys: 534 ms, total: 534 ms\n",
      "Wall time: 534 ms\n"
     ]
    }
   ],
   "source": [
    "%%time\n",
    "AdversarialImages = torch.load('Dataset/Intermediate/Adv_Images_0.pt')\n",
    "AdversarialClasses = torch.load('Dataset/Intermediate/Adv_Classes_0.pt')\n",
    "OriginalClasses = torch.load('Dataset/Intermediate/Ori_Classes_0.pt')"
   ]
  },
  {
   "cell_type": "code",
   "execution_count": 12,
   "metadata": {},
   "outputs": [
    {
     "name": "stdout",
     "output_type": "stream",
     "text": [
      "tensor([  8,   9,  15,  17,  21,  24,  25,  36,  38,  44,  46,  50,  54,  57,\n",
      "         62,  65,  66,  67,  73,  74,  76,  77,  78,  79,  80,  82,  83,  84,\n",
      "         88,  96,  97,  99, 100, 103, 108, 109, 110, 115, 116, 121, 123, 133,\n",
      "        134, 137, 219, 306, 328, 340, 348, 389, 390, 396, 411, 415, 443, 456,\n",
      "        489, 490, 506, 533, 539, 556, 580, 584, 599, 611, 616, 619, 636, 646,\n",
      "        721, 735, 741, 748, 750, 794, 806, 808, 815, 824, 840, 854, 868, 885,\n",
      "        887, 911, 947, 973, 996, 998])\n"
     ]
    }
   ],
   "source": [
    "unique_values = torch.unique(AdversarialClasses)\n",
    "print(unique_values)"
   ]
  },
  {
   "cell_type": "code",
   "execution_count": 20,
   "metadata": {},
   "outputs": [
    {
     "data": {
      "text/plain": [
       "'doormat, welcome mat'"
      ]
     },
     "execution_count": 20,
     "metadata": {},
     "output_type": "execute_result"
    }
   ],
   "source": [
    "IndexClassNames[unique_values[60].item()]"
   ]
  }
 ],
 "metadata": {
  "kernelspec": {
   "display_name": "Python 3",
   "language": "python",
   "name": "python3"
  },
  "language_info": {
   "codemirror_mode": {
    "name": "ipython",
    "version": 3
   },
   "file_extension": ".py",
   "mimetype": "text/x-python",
   "name": "python",
   "nbconvert_exporter": "python",
   "pygments_lexer": "ipython3",
   "version": "3.6.13"
  }
 },
 "nbformat": 4,
 "nbformat_minor": 4
}
